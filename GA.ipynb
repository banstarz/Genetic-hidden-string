{
 "cells": [
  {
   "cell_type": "code",
   "execution_count": 5,
   "metadata": {},
   "outputs": [],
   "source": [
    "from genetic_algorithm import GeneticAlgorithm"
   ]
  },
  {
   "cell_type": "code",
   "execution_count": 6,
   "metadata": {},
   "outputs": [
    {
     "name": "stdout",
     "output_type": "stream",
     "text": [
      "бл.ёж! ю бк\n",
      "привет ьир!\n",
      "привет мир!\n"
     ]
    }
   ],
   "source": [
    "a = GeneticAlgorithm(PopulationSize = 100, threshold = 0.9, GenBound = 10000, Elite = 50)\n",
    "a.Process()"
   ]
  }
 ],
 "metadata": {
  "kernelspec": {
   "display_name": "Python 3.9.13 64-bit (windows store)",
   "language": "python",
   "name": "python3"
  },
  "language_info": {
   "codemirror_mode": {
    "name": "ipython",
    "version": 3
   },
   "file_extension": ".py",
   "mimetype": "text/x-python",
   "name": "python",
   "nbconvert_exporter": "python",
   "pygments_lexer": "ipython3",
   "version": "3.9.13"
  },
  "vscode": {
   "interpreter": {
    "hash": "5ed33d79ecbd6804f6a87e3daec25583f59418069cbd0e4ce144555e77c3ead8"
   }
  }
 },
 "nbformat": 4,
 "nbformat_minor": 2
}
