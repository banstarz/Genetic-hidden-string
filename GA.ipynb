{
 "cells": [
  {
   "cell_type": "code",
   "execution_count": 1,
   "metadata": {},
   "outputs": [
    {
     "name": "stdout",
     "output_type": "stream",
     "text": [
      "шявщятюфтэь\n",
      "приветэмие!\n",
      "приветлмир!\n",
      "привет мир!\n"
     ]
    }
   ],
   "source": [
    "from genetic_algorithm import GeneticAlgorithm\n",
    "\n",
    "ga = GeneticAlgorithm(population_size = 100, mutation_probability = 0.1, max_generation = 10000, Elite = 50)\n",
    "ga.run()"
   ]
  }
 ],
 "metadata": {
  "kernelspec": {
   "display_name": "Python 3.9.13 64-bit (windows store)",
   "language": "python",
   "name": "python3"
  },
  "language_info": {
   "codemirror_mode": {
    "name": "ipython",
    "version": 3
   },
   "file_extension": ".py",
   "mimetype": "text/x-python",
   "name": "python",
   "nbconvert_exporter": "python",
   "pygments_lexer": "ipython3",
   "version": "3.9.13"
  },
  "vscode": {
   "interpreter": {
    "hash": "5ed33d79ecbd6804f6a87e3daec25583f59418069cbd0e4ce144555e77c3ead8"
   }
  }
 },
 "nbformat": 4,
 "nbformat_minor": 2
}
